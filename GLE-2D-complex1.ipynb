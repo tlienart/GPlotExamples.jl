{
 "cells": [
  {
   "cell_type": "markdown",
   "metadata": {},
   "source": [
    "1. [ ] decay\n",
    "1. [ ] quantilescale\n",
    "1. [ ] bar3d\n",
    "1. [ ] semitrans\n",
    "1. [ ] sqroot\n",
    "1. [ ] entropy\n",
    "1. [ ] polargrid\n",
    "1. [ ] shadow\n",
    "1. [ ] shadebar\n",
    "1. [ ] inx"
   ]
  },
  {
   "cell_type": "code",
   "execution_count": null,
   "metadata": {},
   "outputs": [],
   "source": []
  }
 ],
 "metadata": {
  "kernelspec": {
   "display_name": "Julia 1.1.0-DEV",
   "language": "julia",
   "name": "julia-1.1"
  },
  "language_info": {
   "file_extension": ".jl",
   "mimetype": "application/julia",
   "name": "julia",
   "version": "1.1.0"
  }
 },
 "nbformat": 4,
 "nbformat_minor": 2
}
