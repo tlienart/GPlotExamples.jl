{
 "cells": [
  {
   "cell_type": "markdown",
   "metadata": {},
   "source": [
    "1. [ ] AFM\n",
    "1. [ ] polar hist\n",
    "1. [ ] fitls\n",
    "1. [ ] let-multi-dim\n",
    "1. [ ] SdHmethod\n",
    "1. [ ] boxplot\n",
    "1. [ ] butterfly\n",
    "1. [ ] bspline\n",
    "1. [ ] linemode\n",
    "1. [ ] discontinuity"
   ]
  },
  {
   "cell_type": "code",
   "execution_count": null,
   "metadata": {},
   "outputs": [],
   "source": []
  }
 ],
 "metadata": {
  "kernelspec": {
   "display_name": "Julia 1.1.0-DEV",
   "language": "julia",
   "name": "julia-1.1"
  },
  "language_info": {
   "file_extension": ".jl",
   "mimetype": "application/julia",
   "name": "julia",
   "version": "1.1.0"
  }
 },
 "nbformat": 4,
 "nbformat_minor": 2
}
