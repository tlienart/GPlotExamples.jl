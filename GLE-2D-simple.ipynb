{
 "cells": [
  {
   "cell_type": "markdown",
   "metadata": {},
   "source": [
    "* [ ] Fruit production\n",
    "* [ ] Sin\n",
    "* [ ] Cos2t\n",
    "* [ ] Normal"
   ]
  },
  {
   "cell_type": "markdown",
   "metadata": {},
   "source": [
    "## Fruit production\n",
    "\n",
    "**target** [link](http://glx.sourceforge.net/examples/2dsimple/fruitbar.html)\n",
    "\n",
    "![](targets/2d-simple/fruitbar.png)\n",
    "\n",
    "**data**\n",
    "```\n",
    "\"Weekday\", \"Apples\", \"Oranges\"\n",
    "\"Mon\",     2,        6\n",
    "\"Tue\",     10,       16\n",
    "\"Wed\",     3,        6\n",
    "\"Thu\",     6,        3\n",
    "\"Fri\",     5,        4\n",
    "\"Sat\",     3,        7\n",
    "```"
   ]
  },
  {
   "cell_type": "markdown",
   "metadata": {},
   "source": [
    "## Sin\n",
    "\n",
    "**target** ([link](http://glx.sourceforge.net/examples/2dsimple/sin.html))\n",
    "\n",
    "![](targets/2d-simple/sin.png)"
   ]
  },
  {
   "cell_type": "markdown",
   "metadata": {},
   "source": [
    "## Cos2t\n",
    "\n",
    "**target** ([link](http://glx.sourceforge.net/examples/2dsimple/cos2t.html))\n",
    "\n",
    "![](targets/2d-simple/cos2t.png)"
   ]
  },
  {
   "cell_type": "markdown",
   "metadata": {},
   "source": [
    "## Normal\n",
    "\n",
    "**target** ([link](http://glx.sourceforge.net/examples/2dsimple/normal.html))\n",
    "\n",
    "![](targets/2d-simple/normal.png)"
   ]
  },
  {
   "cell_type": "code",
   "execution_count": null,
   "metadata": {},
   "outputs": [],
   "source": []
  }
 ],
 "metadata": {
  "kernelspec": {
   "display_name": "Julia 1.1.0-DEV",
   "language": "julia",
   "name": "julia-1.1"
  },
  "language_info": {
   "file_extension": ".jl",
   "mimetype": "application/julia",
   "name": "julia",
   "version": "1.1.0"
  }
 },
 "nbformat": 4,
 "nbformat_minor": 2
}
